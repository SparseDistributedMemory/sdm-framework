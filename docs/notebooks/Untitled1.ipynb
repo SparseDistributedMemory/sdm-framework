{
 "cells": [
  {
   "cell_type": "code",
   "execution_count": 1,
   "metadata": {},
   "outputs": [
    {
     "ename": "ModuleNotFoundError",
     "evalue": "No module named 'fbprophet'",
     "output_type": "error",
     "traceback": [
      "\u001b[0;31m---------------------------------------------------------------------------\u001b[0m",
      "\u001b[0;31mModuleNotFoundError\u001b[0m                       Traceback (most recent call last)",
      "\u001b[0;32m<ipython-input-1-9428af7bc4c0>\u001b[0m in \u001b[0;36m<module>\u001b[0;34m\u001b[0m\n\u001b[1;32m      2\u001b[0m \u001b[0;32mimport\u001b[0m \u001b[0mmatplotlib\u001b[0m\u001b[0;34m.\u001b[0m\u001b[0mpyplot\u001b[0m \u001b[0;32mas\u001b[0m \u001b[0mplt\u001b[0m\u001b[0;34m\u001b[0m\u001b[0;34m\u001b[0m\u001b[0m\n\u001b[1;32m      3\u001b[0m \u001b[0;32mimport\u001b[0m \u001b[0mnumpy\u001b[0m \u001b[0;32mas\u001b[0m \u001b[0mnp\u001b[0m\u001b[0;34m\u001b[0m\u001b[0;34m\u001b[0m\u001b[0m\n\u001b[0;32m----> 4\u001b[0;31m \u001b[0;32mfrom\u001b[0m \u001b[0mfbprophet\u001b[0m \u001b[0;32mimport\u001b[0m \u001b[0mProphet\u001b[0m\u001b[0;34m\u001b[0m\u001b[0;34m\u001b[0m\u001b[0m\n\u001b[0m\u001b[1;32m      5\u001b[0m \u001b[0;32mimport\u001b[0m \u001b[0mpandas_profiling\u001b[0m \u001b[0;32mas\u001b[0m \u001b[0mpp\u001b[0m\u001b[0;34m\u001b[0m\u001b[0;34m\u001b[0m\u001b[0m\n\u001b[1;32m      6\u001b[0m \u001b[0;32mimport\u001b[0m \u001b[0mmatplotlib\u001b[0m\u001b[0;34m.\u001b[0m\u001b[0mpyplot\u001b[0m \u001b[0;32mas\u001b[0m \u001b[0mplt\u001b[0m\u001b[0;34m\u001b[0m\u001b[0;34m\u001b[0m\u001b[0m\n",
      "\u001b[0;31mModuleNotFoundError\u001b[0m: No module named 'fbprophet'"
     ]
    }
   ],
   "source": [
    "import pandas as pd\n",
    "import matplotlib.pyplot as plt\n",
    "import numpy as np\n",
    "import math\n",
    "import pandas_profiling as pp\n",
    "import matplotlib.pyplot as plt\n",
    "from fbprophet import Prophet\n",
    "\n",
    "\n",
    "df_fullset = pd.read_csv(\"<insert location dataset in csv format>\")\n",
    "df_model=pd.DataFrame()\n",
    "df_model['y']=df_fullset['Ret']\n",
    "df_model['ds']=df_fullset['timestamp']\n",
    "\n",
    "#Adding Regressors\n",
    "df_model['S2F'] = df_fullset['S2F']\n",
    "df_model['S2F']= df_model['S2F'].fillna(method='bfill')\n",
    "df_model['S2F']= pd.to_numeric(df_model['S2F'], errors='coerce')\n",
    "m.add_regressor('S2F')\n",
    "\n",
    "\n",
    "#Creating future data for S2F\n",
    "prediction_interval = 360\n",
    "blocks_per_day = 1440/9.45\n",
    "last_blockheight = df_fullset['blockheight'].tail(1).values[0]\n",
    "df_futuredata = pd.DataFrame(index=range(prediction_interval),columns=range(1))\n",
    "df_futuredata['blocksperday'] = pd.to_numeric(blocks_per_day)\n",
    "df_futuredata['blockheight'] = pd.to_numeric(last_blockheight) + df_futuredata['blocksperday'].cumsum(axis=0)\n",
    "df_futuredata['supply']=df_futuredata['blockheight'].apply(lambda x: 50*(210000*(1-math.pow(0.5, math.floor(x/210000)))/(1-0.5)+math.pow(0.5, math.floor(x/210000))*math.fmod(x,210000)))\n",
    "df_futuredata['S2F']=df_futuredata['supply'].shift(1)/(365*(df_futuredata['supply'] - df_futuredata['supply'].shift(1)))\n",
    "df_futuredata['S2F']= df_futuredata['S2F'].fillna(method='bfill')\n",
    "\n",
    "# Prepare model and future time series\n",
    "m.fit(df_model)\n",
    "\n",
    "future = m.make_future_dataframe(periods=prediction_interval, freq='D')\n",
    "len_future=len(future.index)\n",
    "len_dfmodel=len(df_model.index)\n",
    "future['S2F'] = np.nan\n",
    "\n",
    "for i in range(0, len_dfmodel):\n",
    "    future['S2F'].iloc[i]=df_model['S2F'].iloc[i]\n",
    "\n",
    "for i in range(0, len_future-len_dfmodel-1):\n",
    "    future['S2F'].iloc[len_dfmodel + i]=df_futuredata['S2F'].iloc[i]\n",
    "\n",
    "\n",
    "future['S2F'].bfill(inplace=True)\n",
    "future['S2F'].ffill(inplace=True)\n",
    "future['S2F'] = future['S2F'].astype(float)\n",
    "\n",
    "# Needed to solve an issue with dataformat\n",
    "pd.plotting.register_matplotlib_converters()\n",
    "\n",
    "#Forecast with Prophet\n",
    "forecast = m.predict(future)\n",
    "\n",
    "fig1 = m.plot(forecast)\n",
    "fig2 = m.plot_components(forecast)\n",
    "\n",
    "\n",
    "plt.show()"
   ]
  },
  {
   "cell_type": "code",
   "execution_count": null,
   "metadata": {},
   "outputs": [],
   "source": []
  }
 ],
 "metadata": {
  "kernelspec": {
   "display_name": "Python 3",
   "language": "python",
   "name": "python3"
  },
  "language_info": {
   "codemirror_mode": {
    "name": "ipython",
    "version": 3
   },
   "file_extension": ".py",
   "mimetype": "text/x-python",
   "name": "python",
   "nbconvert_exporter": "python",
   "pygments_lexer": "ipython3",
   "version": "3.7.4"
  }
 },
 "nbformat": 4,
 "nbformat_minor": 4
}
