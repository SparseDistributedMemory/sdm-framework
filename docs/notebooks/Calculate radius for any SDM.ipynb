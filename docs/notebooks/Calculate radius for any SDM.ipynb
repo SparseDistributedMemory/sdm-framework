{
 "cells": [
  {
   "cell_type": "code",
   "execution_count": 1,
   "metadata": {},
   "outputs": [],
   "source": [
    "from sdm.utils import calculate_probabilities"
   ]
  },
  {
   "cell_type": "code",
   "execution_count": 2,
   "metadata": {},
   "outputs": [],
   "source": [
    "bits = 256\n",
    "cdf = calculate_probabilities(bits)"
   ]
  },
  {
   "cell_type": "code",
   "execution_count": 5,
   "metadata": {},
   "outputs": [
    {
     "name": "stdout",
     "output_type": "stream",
     "text": [
      "Radius: 103 (p=0.001067)\n",
      "\n",
      "98 0.00010656656159392933\n",
      "99 0.00017424190213637984\n",
      "100 0.00028049218678802713\n",
      "101 0.00044460153733908635\n",
      "102 0.0006939833935686371\n",
      "103 0.0010668455863778684\n",
      "104 0.001615383235414526\n",
      "105 0.0024094567844961633\n",
      "106 0.003540637028942647\n",
      "107 0.00512640372676482\n"
     ]
    }
   ],
   "source": [
    "for idx, p in enumerate(cdf):\n",
    "    if p > 0.001:\n",
    "        break\n",
    "        \n",
    "print ('Radius: {} (p={:.6f})'.format(idx, cdf[idx]))\n",
    "print ('')\n",
    "\n",
    "for i in range(idx-5, idx+5):\n",
    "    print (i, cdf[i])"
   ]
  },
  {
   "cell_type": "code",
   "execution_count": null,
   "metadata": {},
   "outputs": [],
   "source": []
  }
 ],
 "metadata": {
  "kernelspec": {
   "display_name": "Python 3",
   "language": "python",
   "name": "python3"
  },
  "language_info": {
   "codemirror_mode": {
    "name": "ipython",
    "version": 3
   },
   "file_extension": ".py",
   "mimetype": "text/x-python",
   "name": "python",
   "nbconvert_exporter": "python",
   "pygments_lexer": "ipython3",
   "version": "3.7.4"
  }
 },
 "nbformat": 4,
 "nbformat_minor": 4
}
