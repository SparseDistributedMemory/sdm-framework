{
 "cells": [
  {
   "cell_type": "code",
   "execution_count": null,
   "metadata": {},
   "outputs": [],
   "source": [
    "from __future__ import print_function\n",
    "import sdm as sdmlib\n",
    "from collections import defaultdict\n",
    "import random\n",
    "import string\n",
    "import time\n",
    "from math import ceil\n",
    "from IPython.display import clear_output\n",
    "import matplotlib.pyplot as plt\n",
    "\n",
    "#%load_ext line_profiler\n",
    "\n",
    "empty = ' '\n",
    "flip_table = string.maketrans('OX', 'XO')"
   ]
  },
  {
   "cell_type": "code",
   "execution_count": null,
   "metadata": {},
   "outputs": [],
   "source": [
    "class Player(object):\n",
    "    def __init__(self):\n",
    "        self.stats = defaultdict(int)\n",
    "    \n",
    "    def on_invalid_move(self):\n",
    "        raise Exception('Ops')\n",
    "    \n",
    "    def on_finish(self, winner, seq):\n",
    "        pass\n",
    "    \n",
    "    def next_move(self, step, board):\n",
    "        v = []\n",
    "        for idx, x in enumerate(board):\n",
    "            if x == empty:\n",
    "                v.append(idx)\n",
    "        return random.choice(v)"
   ]
  },
  {
   "cell_type": "code",
   "execution_count": null,
   "metadata": {},
   "outputs": [],
   "source": [
    "class SmartPlayer(object):\n",
    "    def __init__(self):\n",
    "        self.stats = defaultdict(int)\n",
    "    \n",
    "    def on_invalid_move(self):\n",
    "        raise Exception('Ops')\n",
    "    \n",
    "    def on_finish(self, winner, seq):\n",
    "        pass\n",
    "    \n",
    "    def next_move(self, step, board):\n",
    "        v = []\n",
    "        v_block = []\n",
    "        #print('='*20)\n",
    "        #print('board', board)\n",
    "        for idx, x in enumerate(board):\n",
    "            if x == empty:\n",
    "                boardX = board[:idx] + 'X' + board[idx+1:]\n",
    "                winnerX = check_for_winner(boardX)\n",
    "                if winnerX == 'X':\n",
    "                    # Wins the game.\n",
    "                    return idx\n",
    "\n",
    "                boardO = board[:idx] + 'O' + board[idx+1:]\n",
    "                winnerO = check_for_winner(boardO)\n",
    "                if winnerO == 'O':\n",
    "                    # Prevents a defeat.\n",
    "                    v_block.append(idx)\n",
    "                \n",
    "                v.append(idx)\n",
    "        #print('='*20)\n",
    "        if v_block:\n",
    "            return v_block[0]\n",
    "        return random.choice(v)"
   ]
  },
  {
   "cell_type": "code",
   "execution_count": null,
   "metadata": {},
   "outputs": [],
   "source": [
    "class HumanPlayer(object):\n",
    "    def __init__(self):\n",
    "        self.stats = defaultdict(int)\n",
    "    \n",
    "    def on_invalid_move(self):\n",
    "        raise Exception('Ops')\n",
    "    \n",
    "    def on_finish(self, winner, seq):\n",
    "        pass\n",
    "    \n",
    "    def next_move(self, step, board):\n",
    "        #clear_output(wait=True)\n",
    "        while True:\n",
    "            print_board(board)\n",
    "            text = raw_input('Entre com a linha/coluna: ')\n",
    "            if len(text) != 2:\n",
    "                continue\n",
    "            si = text[0]\n",
    "            sj = text[1]\n",
    "            i = int(si)-1\n",
    "            j = int(sj)-1\n",
    "            idx = 3*i+j\n",
    "            if board[idx] == empty:\n",
    "                break\n",
    "        return idx\n"
   ]
  },
  {
   "cell_type": "code",
   "execution_count": null,
   "metadata": {},
   "outputs": [],
   "source": [
    "class SDMPlayer(object):\n",
    "    def __init__(self, sdm0, sdm1, bs_to_boards, boards_to_bs):\n",
    "        self.bs_to_boards = bs_to_boards\n",
    "        self.boards_to_bs = boards_to_bs\n",
    "        \n",
    "        #self.sdm0 = sdm0\n",
    "        self.sdm1 = sdm1\n",
    "        \n",
    "        self.qty_per_action = self.sdm1.bits // 9\n",
    "        \n",
    "        self.on_finish = self.on_finish1\n",
    "        \n",
    "        self.debug = False\n",
    "        \n",
    "        self.reset_stats()\n",
    "    \n",
    "    def reset_stats(self):\n",
    "        self.stats = defaultdict(int)\n",
    "    \n",
    "    def on_invalid_move(self):\n",
    "        raise Exception('Ops')\n",
    "    \n",
    "    def board_to_bitstring(self, board):\n",
    "        bs = self.boards_to_bs.get(board, None)\n",
    "        if bs is None:\n",
    "            bs = sdmlib.Bitstring.init_random(self.sdm1.bits)\n",
    "            self.bs_to_boards[bs] = board\n",
    "            self.boards_to_bs[board] = bs\n",
    "            #self.sdm0.write(bs, bs)\n",
    "        return bs\n",
    "    \n",
    "    def bitstring_to_board(self, bs):\n",
    "        board = self.bs_to_boards.get(bs, None)\n",
    "        return board\n",
    "    \n",
    "    def flip(self, board):\n",
    "        return board.translate(flip_table)\n",
    "    \n",
    "    def on_finish1(self, winner, seq):\n",
    "        if self.debug:\n",
    "            print('Learning...')\n",
    "        \n",
    "        flip_flag = False\n",
    "        if winner == 'O':\n",
    "            flip_flag = True\n",
    "            winner = winner.translate(flip_table)\n",
    "        \n",
    "        for step, (name, action, board_before, board_after) in enumerate(seq):\n",
    "            board = board_before\n",
    "            if flip_flag:\n",
    "                board = self.flip(board)\n",
    "                name = name.translate(flip_table)\n",
    "            \n",
    "            qty = self.qty_per_action\n",
    "            offset = action*qty\n",
    "            bs_actions = sdmlib.Bitstring.init_random(self.sdm1.bits)\n",
    "\n",
    "            if winner is None:\n",
    "                weight = 1\n",
    "                for i in range(qty):\n",
    "                    bs_actions.set_bit(offset+i, 1)\n",
    "                    \n",
    "                if name == 'O':\n",
    "                    board = self.flip(board)\n",
    "\n",
    "            elif name == winner:\n",
    "                # Positive learning\n",
    "                weight = 2\n",
    "                for i in range(qty):\n",
    "                    bs_actions.set_bit(offset+i, 1)\n",
    "                \n",
    "            else:\n",
    "                # Negative learning\n",
    "                weight = 5\n",
    "                board = self.flip(board)\n",
    "                for i in range(qty):\n",
    "                    bs_actions.set_bit(offset+i, 0)\n",
    "\n",
    "            bs_board = self.board_to_bitstring(board)\n",
    "            if self.debug:\n",
    "                print_board(board)\n",
    "                print(action, weight, self.bs_actions_to_rewards(bs_actions))\n",
    "            self.sdm1.write(bs_board, bs_actions, weight=weight)\n",
    "                \n",
    "    def next_move(self, step, board, debug=False):\n",
    "        x = self.sdm_move(step, board)\n",
    "        if x is not None:\n",
    "            if self.debug:\n",
    "                print('SDM')\n",
    "            return x\n",
    "        if self.debug:\n",
    "            print('Random')\n",
    "        return self.random_move(step, board)\n",
    "    \n",
    "    def bs_actions_to_rewards(self, bs_actions):\n",
    "        rewards = []\n",
    "        bit = 0\n",
    "        qty = self.qty_per_action\n",
    "        for idx in range(9):\n",
    "            x = 0\n",
    "            for i in range(qty):\n",
    "                x += bs_actions.get_bit(bit)\n",
    "                bit += 1\n",
    "            rewards.append(x)\n",
    "        return rewards\n",
    "    \n",
    "    def sdm_move(self, step, board, debug=False):\n",
    "        bs_board = self.board_to_bitstring(board)\n",
    "        bs_actions = self.sdm1.read(bs_board)\n",
    "        rewards = self.bs_actions_to_rewards(bs_actions)\n",
    "\n",
    "        if self.debug:\n",
    "            print_board(board)\n",
    "            print(rewards)\n",
    "\n",
    "        for idx, reward in sorted(enumerate(rewards), key=lambda x: x[1], reverse=True):\n",
    "            if board[idx] == empty:\n",
    "                if self.debug:\n",
    "                    print('idx={} reward={}'.format(idx, reward))\n",
    "                self.stats['sdm'] += 1\n",
    "                return idx\n",
    "        return None\n",
    "    \n",
    "    def random_move(self, step, board):\n",
    "        self.stats['random'] += 1\n",
    "        v = []\n",
    "        for idx, x in enumerate(board):\n",
    "            if x == empty:\n",
    "                v.append(idx)\n",
    "        return random.choice(v)"
   ]
  },
  {
   "cell_type": "code",
   "execution_count": null,
   "metadata": {},
   "outputs": [],
   "source": [
    "def print_board(board):\n",
    "    i = 0\n",
    "    while i < len(board):\n",
    "        print('|' + board[i:i+3] + '|')\n",
    "        i += 3\n",
    "    print('')\n",
    "\n",
    "def check_all_equal(*args):\n",
    "    if len(set(args)) == 1 and args[0] != empty:\n",
    "        return True\n",
    "    return False\n",
    "        \n",
    "def check_for_winner(board):\n",
    "    for i in range(3):\n",
    "        if check_all_equal(board[3*i+0], board[3*i+1], board[3*i+2]):\n",
    "            return board[3*i+0]\n",
    "        \n",
    "        if check_all_equal(board[3*0+i], board[3*1+i], board[3*2+i]):\n",
    "            return board[3*0+i]\n",
    "\n",
    "    if check_all_equal(board[3*0+0], board[3*1+1], board[3*2+2]):\n",
    "        return board[3*0+0]\n",
    "    \n",
    "    if check_all_equal(board[3*0+2], board[3*1+1], board[3*2+0]):\n",
    "        return board[3*0+2]\n",
    "    \n",
    "    return None\n",
    "\n",
    "def board_flip(board):\n",
    "        return board.translate(flip_table)\n",
    "\n",
    "def play(p1, p2, shuffle=True):\n",
    "    board = ' '*9\n",
    "    end = False\n",
    "    players = [('X', p1), ('O', p2)]\n",
    "    if shuffle:\n",
    "        random.shuffle(players)\n",
    "    index = 0\n",
    "    step = 0\n",
    "    sequence = []\n",
    "    winner = None\n",
    "    while winner is None and step < 9:\n",
    "        cur_name, cur_player = players[index]\n",
    "        \n",
    "        if cur_name == 'X':\n",
    "            idx = cur_player.next_move(step, board)\n",
    "        else:\n",
    "            idx = cur_player.next_move(step, board_flip(board))\n",
    "        \n",
    "        if board[idx] != empty:\n",
    "            cur_player.on_invalid_move()\n",
    "        \n",
    "        new_board = board[:idx] + cur_name + board[idx+1:]\n",
    "        sequence.append((cur_name, idx, board, new_board))\n",
    "        board = new_board\n",
    "        \n",
    "        winner = check_for_winner(board)\n",
    "        \n",
    "        index = (index+1)%2\n",
    "        step += 1\n",
    "\n",
    "    return winner, sequence"
   ]
  },
  {
   "cell_type": "code",
   "execution_count": null,
   "metadata": {
    "scrolled": false
   },
   "outputs": [],
   "source": [
    "def run(pA, pB, n, show=False, debug=False, shuffle=True, learning=True, offset=0):\n",
    "    wins = defaultdict(int)\n",
    "    for i in range(n):\n",
    "        winner, seq = play(pA, pB, shuffle=shuffle)\n",
    "\n",
    "        wins[winner] += 1\n",
    "\n",
    "        if not debug:\n",
    "            clear_output(wait=True)\n",
    "        else:\n",
    "            print('')\n",
    "            \n",
    "        print('Game #{:5d}: {}  {} {}'.format(i+1+offset, list(wins.items()), list(pA.stats.items()), list(pB.stats.items())))\n",
    "\n",
    "        if debug:\n",
    "            for i, (name, action, board_before, board_after) in enumerate(seq):\n",
    "                print('step={}'.format(i))\n",
    "                print_board(board_before)\n",
    "                \n",
    "        if show:\n",
    "            print('')\n",
    "            print_board(seq[-1][3])\n",
    "            print('')\n",
    "\n",
    "        if learning:\n",
    "            pA.on_finish(winner, seq)\n",
    "            pB.on_finish(winner, seq)\n",
    "    return wins"
   ]
  },
  {
   "cell_type": "code",
   "execution_count": 8,
   "metadata": {},
   "outputs": [],
   "source": [
    "bits, radius = 1000, 451\n",
    "#bits, radius = 256, 103\n",
    "\n",
    "sample = 1000000\n",
    "scanner_type = sdmlib.SDM_SCANNER_OPENCL\n",
    "\n",
    "address_space = sdmlib.AddressSpace.init_random(bits, sample)\n",
    "\n",
    "#counter0 = sdmlib.Counter.init_zero(bits, sample)\n",
    "#sdm0 = sdmlib.SDM(address_space, counter0, radius, scanner_type)\n",
    "\n",
    "counter1 = sdmlib.Counter.init_zero(bits, sample)\n",
    "sdm11 = sdmlib.SDM(address_space, counter1, radius, scanner_type)\n",
    "\n",
    "counter2 = sdmlib.Counter.init_zero(bits, sample)\n",
    "sdm12 = sdmlib.SDM(address_space, counter2, radius, scanner_type)\n",
    "\n",
    "bs_to_boards = {}\n",
    "boards_to_bs = {}"
   ]
  },
  {
   "cell_type": "code",
   "execution_count": 9,
   "metadata": {},
   "outputs": [],
   "source": [
    "scanner_type = sdmlib.SDM_SCANNER_OPENCL\n",
    "#sdm0 = sdmlib.SDM(address_space, counter0, radius, scanner_type)\n",
    "sdm11 = sdmlib.SDM(address_space, counter1, radius, scanner_type)\n",
    "sdm12 = sdmlib.SDM(address_space, counter2, radius, scanner_type)"
   ]
  },
  {
   "cell_type": "code",
   "execution_count": 10,
   "metadata": {},
   "outputs": [],
   "source": [
    "sdm1 = SDMPlayer(None, sdm11, bs_to_boards, boards_to_bs)\n",
    "sdm2 = SDMPlayer(None, sdm12, bs_to_boards, boards_to_bs)\n",
    "rnd = Player()\n",
    "hum = HumanPlayer()\n",
    "smt = SmartPlayer()"
   ]
  },
  {
   "cell_type": "code",
   "execution_count": 11,
   "metadata": {},
   "outputs": [],
   "source": [
    "resultsSmart = []\n",
    "resultsRandom = []\n",
    "resultsSDM = []\n",
    "resultsMixed = []"
   ]
  },
  {
   "cell_type": "code",
   "execution_count": null,
   "metadata": {},
   "outputs": [],
   "source": [
    "sdm1.debug = False\n",
    "for i in range(30):\n",
    "    resultsSmart.append(run(sdm1, smt, 100, show=True, offset=100*i, learning=False))\n",
    "    %time run(sdm1, smt, 100, show=True, offset=100*i, learning=True)"
   ]
  },
  {
   "cell_type": "code",
   "execution_count": null,
   "metadata": {
    "scrolled": true
   },
   "outputs": [],
   "source": [
    "sdm1.debug = False\n",
    "for i in range(30):\n",
    "    resultsRandom.append(run(sdm1, rnd, 100, show=True, offset=100*i, learning=False))\n",
    "    %time run(sdm1, rnd, 100, show=True, offset=100*i, learning=True)"
   ]
  },
  {
   "cell_type": "code",
   "execution_count": null,
   "metadata": {},
   "outputs": [],
   "source": [
    "sdm1.debug = False\n",
    "for i in range(20):\n",
    "    resultsSDM.append(run(sdm1, sdm2, 100, show=True, offset=100*i, learning=False))\n",
    "    %time run(sdm1, sdm2, 100, show=True, offset=100*i, learning=True)"
   ]
  },
  {
   "cell_type": "code",
   "execution_count": 17,
   "metadata": {},
   "outputs": [
    {
     "name": "stdout",
     "output_type": "stream",
     "text": [
      "Game # 1000: [('X', 15), (None, 79), ('O', 6)]  [('sdm', 48401)] []\n",
      "\n",
      "|XOX|\n",
      "|OXX|\n",
      "|OXO|\n",
      "\n",
      "\n",
      "CPU times: user 3.01 s, sys: 608 ms, total: 3.62 s\n",
      "Wall time: 5.65 s\n"
     ]
    }
   ],
   "source": [
    "sdm1.debug = False\n",
    "for i in range(10):\n",
    "    other = random.choice([sdm2, smt, rnd])\n",
    "    resultsMixed.append(run(sdm1, other, 100, show=True, offset=100*i, learning=False))\n",
    "    %time run(sdm1, other, 100, show=True, offset=100*i, learning=True)"
   ]
  },
  {
   "cell_type": "code",
   "execution_count": null,
   "metadata": {},
   "outputs": [],
   "source": [
    "%time run(sdm1, sdm2, 500, show=True)"
   ]
  },
  {
   "cell_type": "code",
   "execution_count": null,
   "metadata": {
    "scrolled": false
   },
   "outputs": [],
   "source": [
    "sdm1.debug = True\n",
    "run(sdm1, hum, 1, show=True, debug=True, learning=False)"
   ]
  },
  {
   "cell_type": "code",
   "execution_count": null,
   "metadata": {
    "scrolled": false
   },
   "outputs": [],
   "source": [
    "sdm1.debug = True\n",
    "run(sdm1, rnd, 1, show=True, debug=True)"
   ]
  },
  {
   "cell_type": "code",
   "execution_count": null,
   "metadata": {},
   "outputs": [],
   "source": [
    "%time run(sdm2, smt, 1000, show=True, learning=True)"
   ]
  },
  {
   "cell_type": "code",
   "execution_count": null,
   "metadata": {},
   "outputs": [],
   "source": [
    "sdmX.next_move(0, ' '*9, debug=True)"
   ]
  },
  {
   "cell_type": "code",
   "execution_count": 19,
   "metadata": {},
   "outputs": [
    {
     "data": {
      "image/png": "[encoded data removed]",
      "text/plain": [
       "<matplotlib.figure.Figure at 0x3152c4a50>"
      ]
     },
     "metadata": {},
     "output_type": "display_data"
    }
   ],
   "source": [
    "def draw(results):\n",
    "    import numpy as np\n",
    "\n",
    "    pos = np.arange(len(results))\n",
    "    width = 0.35\n",
    "\n",
    "    plt.figure(figsize=(8, 6), dpi=100)\n",
    "    winX = [100.0*x['X']/(x['X'] + x['O'] + x[None]) for x in results]\n",
    "    draw = [100.0*x[None]/(x['X'] + x['O'] + x[None]) for x in results]\n",
    "    winO = [100.0*x['O']/(x['X'] + x['O'] + x[None]) for x in results]\n",
    "    #plt.bar(pos, winX, width, color='k')\n",
    "    #plt.bar(pos, draw, width, bottom=winX, color='b')\n",
    "    #plt.bar(pos, winO, width)\n",
    "    #plt.bar(pos+width, [100.0*x['X']/(x['X'] + x['O'] + x[None]) for x in resultsRandom], width, color='y')\n",
    "    \n",
    "    plt.stackplot(pos, winO)\n",
    "    \n",
    "    #plt.stackplot(pos, winO, draw, winX, labels=['Lose', 'Draw', 'Win'])\n",
    "    #plt.legend()\n",
    " \n",
    "    plt.grid()\n",
    "    #plt.ylabel('% of loses')\n",
    "    plt.xlabel('Number of games (hundreds)');\n",
    "\n",
    "draw(resultsMixed)"
   ]
  },
  {
   "cell_type": "code",
   "execution_count": null,
   "metadata": {},
   "outputs": [],
   "source": [
    "x = resultsSmart[0]\n",
    "print(x)"
   ]
  },
  {
   "cell_type": "code",
   "execution_count": null,
   "metadata": {},
   "outputs": [],
   "source": [
    "counter = sdm1.next_move(0, 'X O  O   ')"
   ]
  },
  {
   "cell_type": "code",
   "execution_count": null,
   "metadata": {},
   "outputs": [],
   "source": [
    "counter = sdm11.read_counter(boards_to_bs[' '*9])\n",
    "bs = counter.to_bitstring(0)\n",
    "counter_values = [counter.counter[0][i] for i in range(bits)]"
   ]
  },
  {
   "cell_type": "code",
   "execution_count": null,
   "metadata": {},
   "outputs": [],
   "source": [
    "for i, x in enumerate(counter_values):\n",
    "    if bs.get_bit(i):\n",
    "        assert(x >= 0)\n",
    "    else:\n",
    "        assert(x <= 0)"
   ]
  },
  {
   "cell_type": "code",
   "execution_count": null,
   "metadata": {},
   "outputs": [],
   "source": [
    "for i, x in enumerate(counter_values):\n",
    "    print('{:4d} {:10d}'.format(i, x))"
   ]
  },
  {
   "cell_type": "code",
   "execution_count": null,
   "metadata": {},
   "outputs": [],
   "source": []
  }
 ],
 "metadata": {
  "kernelspec": {
   "display_name": "Python 2",
   "language": "python",
   "name": "python2"
  },
  "language_info": {
   "codemirror_mode": {
    "name": "ipython",
    "version": 2
   },
   "file_extension": ".py",
   "mimetype": "text/x-python",
   "name": "python",
   "nbconvert_exporter": "python",
   "pygments_lexer": "ipython2",
   "version": "2.7.10"
  }
 },
 "nbformat": 4,
 "nbformat_minor": 2
}
